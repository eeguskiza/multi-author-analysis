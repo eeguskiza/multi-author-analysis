{
 "cells": [
  {
   "cell_type": "code",
   "execution_count": 1,
   "id": "6778567e",
   "metadata": {},
   "outputs": [],
   "source": [
    "# Extraer embeddings contextuales por frase desde BERT multilingüe.\n",
    "# Mean pooling con attention_mask.\n",
    "# Guardar matrices y metadatos para E3/E4."
   ]
  },
  {
   "cell_type": "markdown",
   "id": "949a31b0",
   "metadata": {},
   "source": [
    "#### ***Imports y config***"
   ]
  },
  {
   "cell_type": "code",
   "execution_count": 1,
   "id": "5e3d3630",
   "metadata": {},
   "outputs": [],
   "source": [
    "# Configuración y semillas\n",
    "from pathlib import Path\n",
    "import json, random\n",
    "import numpy as np\n",
    "import pandas as pd\n",
    "import torch\n",
    "\n",
    "SEED = 42\n",
    "random.seed(SEED); np.random.seed(SEED); torch.manual_seed(SEED)\n",
    "\n",
    "BATCH_SIZE = 128\n",
    "MAX_LEN = 64\n",
    "MODEL_NAME = \"distilbert-base-uncased\"  # inglés y ligero\n",
    "\n",
    "pd.set_option(\"display.max_colwidth\", 120)"
   ]
  },
  {
   "cell_type": "markdown",
   "id": "b67b1f0e",
   "metadata": {},
   "source": [
    "#### ***Auto-device y carga de modelo/tokenizer***"
   ]
  },
  {
   "cell_type": "code",
   "execution_count": 2,
   "id": "24441f73",
   "metadata": {},
   "outputs": [
    {
     "name": "stderr",
     "output_type": "stream",
     "text": [
      "/opt/homebrew/Caskroom/miniforge/base/envs/work/lib/python3.11/site-packages/tqdm/auto.py:21: TqdmWarning: IProgress not found. Please update jupyter and ipywidgets. See https://ipywidgets.readthedocs.io/en/stable/user_install.html\n",
      "  from .autonotebook import tqdm as notebook_tqdm\n"
     ]
    },
    {
     "name": "stdout",
     "output_type": "stream",
     "text": [
      "device=mps, hidden=768, max_len=64, batch=128\n"
     ]
    }
   ],
   "source": [
    "# Auto-device y carga de modelo/tokenizer\n",
    "from transformers import AutoTokenizer, AutoModel\n",
    "\n",
    "if torch.cuda.is_available():\n",
    "    device = torch.device(\"cuda\"); amp_dtype = torch.float16\n",
    "elif hasattr(torch.backends, \"mps\") and torch.backends.mps.is_available():\n",
    "    device = torch.device(\"mps\");  amp_dtype = torch.float16\n",
    "else:\n",
    "    device = torch.device(\"cpu\");  amp_dtype = torch.bfloat16  # ignorado si no aplica\n",
    "\n",
    "tokenizer = AutoTokenizer.from_pretrained(MODEL_NAME)\n",
    "model = AutoModel.from_pretrained(MODEL_NAME).to(device).eval()\n",
    "HIDDEN = model.config.hidden_size\n",
    "\n",
    "print(f\"device={device}, hidden={HIDDEN}, max_len={MAX_LEN}, batch={BATCH_SIZE}\")"
   ]
  },
  {
   "cell_type": "markdown",
   "id": "4ce2b07e",
   "metadata": {},
   "source": [
    "#### ***Rutas***"
   ]
  },
  {
   "cell_type": "code",
   "execution_count": 3,
   "id": "35075467",
   "metadata": {},
   "outputs": [],
   "source": [
    "# Rutas y carga de processed → textos e índices\n",
    "def find_root():\n",
    "    p = Path.cwd()\n",
    "    for cand in [p, *p.parents]:\n",
    "        if (cand / \"data\" / \"processed\").exists():\n",
    "            return cand\n",
    "    raise FileNotFoundError(\"No encuentro data/processed.\")\n",
    "\n",
    "ROOT = find_root()\n",
    "PROC = ROOT / \"data\" / \"processed\"\n",
    "FEAT = ROOT / \"features\" / \"embeddings_contextual\"\n",
    "FEAT.mkdir(parents=True, exist_ok=True)\n",
    "\n",
    "NIVELES = [\"easy\",\"medium\",\"hard\"]\n",
    "SPLITS = [\"train\",\"validation\"]"
   ]
  },
  {
   "cell_type": "markdown",
   "id": "a526cc54",
   "metadata": {},
   "source": [
    "#### ***Carga processed***"
   ]
  },
  {
   "cell_type": "code",
   "execution_count": 4,
   "id": "3e69a09c",
   "metadata": {},
   "outputs": [
    {
     "name": "stdout",
     "output_type": "stream",
     "text": [
      "(171602, 5) (36558, 5)\n"
     ]
    }
   ],
   "source": [
    "def cargar_split(split):\n",
    "    frames = []\n",
    "    for lvl in NIVELES:\n",
    "        p = PROC / lvl / split / \"sentences.jsonl\"\n",
    "        if p.exists():\n",
    "            df = pd.read_json(p, lines=True)\n",
    "            df[\"level\"] = lvl; df[\"split\"] = split\n",
    "            frames.append(df[[\"level\",\"split\",\"doc_id\",\"sent_id\",\"text_norm\"]])\n",
    "    if not frames:\n",
    "        return pd.DataFrame(columns=[\"level\",\"split\",\"doc_id\",\"sent_id\",\"text_norm\"])\n",
    "    return pd.concat(frames, ignore_index=True).sort_values([\"level\",\"doc_id\",\"sent_id\"]).reset_index(drop=True)\n",
    "\n",
    "df_tr = cargar_split(\"train\")\n",
    "df_va = cargar_split(\"validation\")\n",
    "print(df_tr.shape, df_va.shape)"
   ]
  },
  {
   "cell_type": "markdown",
   "id": "bf354643",
   "metadata": {},
   "source": [
    "#### ***Funciones de batching y pooling***"
   ]
  },
  {
   "cell_type": "code",
   "execution_count": 5,
   "id": "34e58d80",
   "metadata": {},
   "outputs": [],
   "source": [
    "# Funciones: batching, embedding (mean-pooling + autocast) y métricas de truncado\n",
    "def batches(lst, bs):\n",
    "    for i in range(0, len(lst), bs):\n",
    "        yield lst[i:i+bs]\n",
    "\n",
    "@torch.no_grad()\n",
    "def embed_texts(texts):\n",
    "    out = np.zeros((len(texts), HIDDEN), dtype=np.float32)\n",
    "    trunc_hits = 0\n",
    "    all_lengths = []\n",
    "\n",
    "    k = 0\n",
    "    for chunk in batches(texts, BATCH_SIZE):\n",
    "        enc = tokenizer(\n",
    "            chunk, padding=True, truncation=True, max_length=MAX_LEN, return_tensors=\"pt\"\n",
    "        )\n",
    "        lengths = enc[\"attention_mask\"].sum(dim=1)  # longitudes efectivas\n",
    "        all_lengths.extend(lengths.cpu().tolist())\n",
    "        trunc_hits += int((lengths == MAX_LEN).sum().item())\n",
    "\n",
    "        enc = {k2: v.to(device) for k2, v in enc.items()}\n",
    "        with torch.amp.autocast(device_type=device.type, dtype=amp_dtype, enabled=(device.type != \"cpu\")):\n",
    "            last = model(**enc).last_hidden_state            # [bs, seq, hid]\n",
    "            mask = enc[\"attention_mask\"].unsqueeze(-1)       # [bs, seq, 1]\n",
    "            sent = (last * mask).sum(dim=1) / mask.sum(dim=1).clamp(min=1)\n",
    "\n",
    "        bs = sent.size(0)\n",
    "        out[k:k+bs] = sent.detach().float().cpu().numpy()\n",
    "        k += bs\n",
    "\n",
    "    trunc_ratio = trunc_hits / len(texts) if len(texts) else 0.0\n",
    "    lens = np.array(all_lengths, dtype=np.int32)\n",
    "    len_stats = {\n",
    "        \"p50_len\": int(np.percentile(lens, 50)) if len(lens) else 0,\n",
    "        \"p90_len\": int(np.percentile(lens, 90)) if len(lens) else 0,\n",
    "        \"p95_len\": int(np.percentile(lens, 95)) if len(lens) else 0,\n",
    "    }\n",
    "    return out, trunc_ratio, len_stats"
   ]
  },
  {
   "cell_type": "markdown",
   "id": "f3cc138f",
   "metadata": {},
   "source": [
    "#### ***Embeddings TRAIN***"
   ]
  },
  {
   "cell_type": "code",
   "execution_count": 6,
   "id": "80444b04",
   "metadata": {},
   "outputs": [
    {
     "name": "stdout",
     "output_type": "stream",
     "text": [
      "TRAIN: (171602, 768) trunc@64: 0.015 len_stats: {'p50_len': 18, 'p90_len': 38, 'p95_len': 46}\n"
     ]
    }
   ],
   "source": [
    "# Embeddings TRAIN\n",
    "texts_tr = df_tr[\"text_norm\"].astype(str).tolist()\n",
    "X_tr, trunc_tr, len_stats_tr = embed_texts(texts_tr)\n",
    "np.save(FEAT / \"C_train.npy\", X_tr)\n",
    "df_tr[[\"level\",\"split\",\"doc_id\",\"sent_id\"]].to_csv(FEAT / \"C_train_index.csv\", index=False)\n",
    "print(\"TRAIN:\", X_tr.shape, \"trunc@64:\", round(trunc_tr, 3), \"len_stats:\", len_stats_tr)"
   ]
  },
  {
   "cell_type": "markdown",
   "id": "41d119d1",
   "metadata": {},
   "source": [
    "#### ***Embeddings VAL***"
   ]
  },
  {
   "cell_type": "code",
   "execution_count": 7,
   "id": "f8890056",
   "metadata": {},
   "outputs": [
    {
     "name": "stdout",
     "output_type": "stream",
     "text": [
      "VAL: (36558, 768) trunc@64: 0.015 len_stats: {'p50_len': 19, 'p90_len': 38, 'p95_len': 47}\n"
     ]
    }
   ],
   "source": [
    "# Embeddings VALIDATION\n",
    "texts_va = df_va[\"text_norm\"].astype(str).tolist()\n",
    "X_va, trunc_va, len_stats_va = embed_texts(texts_va)\n",
    "np.save(FEAT / \"C_validation.npy\", X_va)\n",
    "df_va[[\"level\",\"split\",\"doc_id\",\"sent_id\"]].to_csv(FEAT / \"C_validation_index.csv\", index=False)\n",
    "print(\"VAL:\", X_va.shape, \"trunc@64:\", round(trunc_va, 3), \"len_stats:\", len_stats_va)"
   ]
  },
  {
   "cell_type": "markdown",
   "id": "c2624b66",
   "metadata": {},
   "source": [
    "#### ***Resumen y guardado***"
   ]
  },
  {
   "cell_type": "code",
   "execution_count": 8,
   "id": "94808ae9",
   "metadata": {},
   "outputs": [
    {
     "name": "stdout",
     "output_type": "stream",
     "text": [
      "Resumen escrito en /Users/eeguskiza/Documents/Deusto/2025/NLP/multi-author-analysis/features/embeddings_contextual/contextual_resumen.json\n"
     ]
    }
   ],
   "source": [
    "# Resumen y metadatos\n",
    "resumen = {\n",
    "    \"model\": MODEL_NAME,\n",
    "    \"device\": str(device),\n",
    "    \"hidden\": int(HIDDEN),\n",
    "    \"batch_size\": int(BATCH_SIZE),\n",
    "    \"max_len\": int(MAX_LEN),\n",
    "    \"train_shape\": tuple(X_tr.shape),\n",
    "    \"val_shape\": tuple(X_va.shape),\n",
    "    \"trunc_ratio_train\": float(round(trunc_tr, 4)),\n",
    "    \"trunc_ratio_val\": float(round(trunc_va, 4)),\n",
    "    \"len_stats_train\": len_stats_tr,\n",
    "    \"len_stats_val\": len_stats_va,\n",
    "    \"seed\": SEED,\n",
    "}\n",
    "(FEAT / \"contextual_resumen.json\").write_text(json.dumps(resumen, indent=2), encoding=\"utf-8\")\n",
    "print(\"Resumen escrito en\", FEAT / \"contextual_resumen.json\")"
   ]
  }
 ],
 "metadata": {
  "kernelspec": {
   "display_name": "work",
   "language": "python",
   "name": "python3"
  },
  "language_info": {
   "codemirror_mode": {
    "name": "ipython",
    "version": 3
   },
   "file_extension": ".py",
   "mimetype": "text/x-python",
   "name": "python",
   "nbconvert_exporter": "python",
   "pygments_lexer": "ipython3",
   "version": "3.11.13"
  }
 },
 "nbformat": 4,
 "nbformat_minor": 5
}
