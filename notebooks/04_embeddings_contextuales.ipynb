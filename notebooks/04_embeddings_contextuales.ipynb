{
 "cells": [
  {
   "cell_type": "code",
   "execution_count": 1,
   "id": "6778567e",
   "metadata": {},
   "outputs": [],
   "source": [
    "# Extraer embeddings contextuales por frase desde BERT multilingüe.\n",
    "# Mean pooling con attention_mask.\n",
    "# Guardar matrices y metadatos para E3/E4."
   ]
  },
  {
   "cell_type": "markdown",
   "id": "949a31b0",
   "metadata": {},
   "source": [
    "#### ***Imports y config***"
   ]
  },
  {
   "cell_type": "code",
   "execution_count": 2,
   "id": "5e3d3630",
   "metadata": {},
   "outputs": [
    {
     "name": "stderr",
     "output_type": "stream",
     "text": [
      "/opt/homebrew/Caskroom/miniforge/base/envs/work/lib/python3.11/site-packages/tqdm/auto.py:21: TqdmWarning: IProgress not found. Please update jupyter and ipywidgets. See https://ipywidgets.readthedocs.io/en/stable/user_install.html\n",
      "  from .autonotebook import tqdm as notebook_tqdm\n"
     ]
    }
   ],
   "source": [
    "from pathlib import Path\n",
    "import json\n",
    "import numpy as np\n",
    "import pandas as pd\n",
    "import torch\n",
    "from transformers import AutoTokenizer, AutoModel\n",
    "\n",
    "SEED = 42\n",
    "BATCH_SIZE = 128\n",
    "MAX_LEN = 64\n",
    "MODEL_NAME = \"bert-base-multilingual-cased\"  # robusto multi-idioma\n",
    "DTYPE_FP16 = True  # usa FP16 en CUDA si disponible\n",
    "\n",
    "torch.manual_seed(SEED)\n",
    "pd.set_option(\"display.max_colwidth\", 120)"
   ]
  },
  {
   "cell_type": "markdown",
   "id": "4ce2b07e",
   "metadata": {},
   "source": [
    "#### ***Rutas***"
   ]
  },
  {
   "cell_type": "code",
   "execution_count": 3,
   "id": "35075467",
   "metadata": {},
   "outputs": [],
   "source": [
    "def find_root():\n",
    "    p = Path.cwd()\n",
    "    for cand in [p, *p.parents]:\n",
    "        if (cand / \"data\" / \"processed\").exists():\n",
    "            return cand\n",
    "    raise FileNotFoundError(\"No encuentro data/processed.\")\n",
    "\n",
    "ROOT = find_root()\n",
    "PROC = ROOT / \"data\" / \"processed\"\n",
    "FEAT = ROOT / \"features\" / \"embeddings_contextual\"\n",
    "FEAT.mkdir(parents=True, exist_ok=True)\n",
    "\n",
    "NIVELES = [\"easy\",\"medium\",\"hard\"]\n",
    "SPLITS = [\"train\",\"validation\"]"
   ]
  },
  {
   "cell_type": "markdown",
   "id": "a526cc54",
   "metadata": {},
   "source": [
    "#### ***Carga processed***"
   ]
  },
  {
   "cell_type": "code",
   "execution_count": 4,
   "id": "3e69a09c",
   "metadata": {},
   "outputs": [
    {
     "name": "stdout",
     "output_type": "stream",
     "text": [
      "(171602, 5) (36558, 5)\n"
     ]
    }
   ],
   "source": [
    "def cargar_split(split):\n",
    "    rows = []\n",
    "    for lvl in NIVELES:\n",
    "        p = PROC / lvl / split / \"sentences.jsonl\"\n",
    "        if p.exists():\n",
    "            df = pd.read_json(p, lines=True)\n",
    "            df[\"level\"] = lvl\n",
    "            df[\"split\"] = split\n",
    "            rows.append(df[[\"level\",\"split\",\"doc_id\",\"sent_id\",\"text_norm\"]])\n",
    "    if not rows:\n",
    "        return pd.DataFrame(columns=[\"level\",\"split\",\"doc_id\",\"sent_id\",\"text_norm\"])\n",
    "    return pd.concat(rows, ignore_index=True).sort_values([\"level\",\"doc_id\",\"sent_id\"]).reset_index(drop=True)\n",
    "\n",
    "df_tr = cargar_split(\"train\")\n",
    "df_va = cargar_split(\"validation\")\n",
    "print(df_tr.shape, df_va.shape)"
   ]
  },
  {
   "cell_type": "markdown",
   "id": "4260832e",
   "metadata": {},
   "source": [
    "### ***Modelo y tokenizer***"
   ]
  },
  {
   "cell_type": "code",
   "execution_count": 5,
   "id": "18d8d494",
   "metadata": {},
   "outputs": [
    {
     "name": "stdout",
     "output_type": "stream",
     "text": [
      "device: cpu hidden: 768\n"
     ]
    }
   ],
   "source": [
    "device = torch.device(\"cuda\" if torch.cuda.is_available() else \"cpu\")\n",
    "tokenizer = AutoTokenizer.from_pretrained(MODEL_NAME)\n",
    "model = AutoModel.from_pretrained(MODEL_NAME)\n",
    "if device.type == \"cuda\" and DTYPE_FP16:\n",
    "    model = model.half()\n",
    "model = model.to(device).eval()\n",
    "\n",
    "HIDDEN = model.config.hidden_size\n",
    "print(\"device:\", device, \"hidden:\", HIDDEN)"
   ]
  },
  {
   "cell_type": "markdown",
   "id": "bf354643",
   "metadata": {},
   "source": [
    "#### ***Funciones de batching y pooling***"
   ]
  },
  {
   "cell_type": "code",
   "execution_count": 6,
   "id": "34e58d80",
   "metadata": {},
   "outputs": [],
   "source": [
    "def batches(lst, bs):\n",
    "    for i in range(0, len(lst), bs):\n",
    "        yield lst[i:i+bs]\n",
    "\n",
    "@torch.no_grad()\n",
    "def embed_texts(texts):\n",
    "    # Prealoca salida\n",
    "    out = np.zeros((len(texts), HIDDEN), dtype=np.float32)\n",
    "    k = 0\n",
    "    for chunk in batches(texts, BATCH_SIZE):\n",
    "        enc = tokenizer(\n",
    "            chunk,\n",
    "            padding=True,\n",
    "            truncation=True,\n",
    "            max_length=MAX_LEN,\n",
    "            return_tensors=\"pt\"\n",
    "        )\n",
    "        enc = {k2: v.to(device) for k2, v in enc.items()}\n",
    "        with torch.cuda.amp.autocast(enabled=(device.type==\"cuda\" and DTYPE_FP16)):\n",
    "            last = model(**enc).last_hidden_state  # [bs, seq, hidden]\n",
    "            mask = enc[\"attention_mask\"].unsqueeze(-1)  # [bs, seq, 1]\n",
    "            masked = last * mask\n",
    "            # mean pooling seguro\n",
    "            denom = mask.sum(dim=1).clamp(min=1)\n",
    "            sent_emb = masked.sum(dim=1) / denom\n",
    "        bs = sent_emb.size(0)\n",
    "        out[k:k+bs] = sent_emb.detach().float().cpu().numpy()\n",
    "        k += bs\n",
    "    return out"
   ]
  },
  {
   "cell_type": "markdown",
   "id": "f3cc138f",
   "metadata": {},
   "source": [
    "#### ***Embeddings por split***"
   ]
  },
  {
   "cell_type": "code",
   "execution_count": 7,
   "id": "80444b04",
   "metadata": {},
   "outputs": [
    {
     "name": "stderr",
     "output_type": "stream",
     "text": [
      "/var/folders/l_/12tvnty11h92yrbf3q009m3h0000gp/T/ipykernel_25090/1950619927.py:19: FutureWarning: `torch.cuda.amp.autocast(args...)` is deprecated. Please use `torch.amp.autocast('cuda', args...)` instead.\n",
      "  with torch.cuda.amp.autocast(enabled=(device.type==\"cuda\" and DTYPE_FP16)):\n"
     ]
    },
    {
     "name": "stdout",
     "output_type": "stream",
     "text": [
      "TRAIN: (171602, 768) guardado.\n"
     ]
    },
    {
     "name": "stderr",
     "output_type": "stream",
     "text": [
      "/var/folders/l_/12tvnty11h92yrbf3q009m3h0000gp/T/ipykernel_25090/1950619927.py:19: FutureWarning: `torch.cuda.amp.autocast(args...)` is deprecated. Please use `torch.amp.autocast('cuda', args...)` instead.\n",
      "  with torch.cuda.amp.autocast(enabled=(device.type==\"cuda\" and DTYPE_FP16)):\n"
     ]
    },
    {
     "name": "stdout",
     "output_type": "stream",
     "text": [
      "VAL: (36558, 768) guardado.\n"
     ]
    }
   ],
   "source": [
    "# TRAIN\n",
    "texts_tr = df_tr[\"text_norm\"].astype(str).tolist()\n",
    "X_tr = embed_texts(texts_tr)\n",
    "np.save(FEAT / \"C_train.npy\", X_tr)\n",
    "df_tr[[\"level\",\"split\",\"doc_id\",\"sent_id\"]].to_csv(FEAT / \"C_train_index.csv\", index=False)\n",
    "print(\"TRAIN:\", X_tr.shape, \"guardado.\")\n",
    "\n",
    "# VALIDATION\n",
    "texts_va = df_va[\"text_norm\"].astype(str).tolist()\n",
    "X_va = embed_texts(texts_va)\n",
    "np.save(FEAT / \"C_validation.npy\", X_va)\n",
    "df_va[[\"level\",\"split\",\"doc_id\",\"sent_id\"]].to_csv(FEAT / \"C_validation_index.csv\", index=False)\n",
    "print(\"VAL:\", X_va.shape, \"guardado.\")"
   ]
  },
  {
   "cell_type": "markdown",
   "id": "c2624b66",
   "metadata": {},
   "source": [
    "#### ***Resumen y guardado***"
   ]
  },
  {
   "cell_type": "code",
   "execution_count": 8,
   "id": "94808ae9",
   "metadata": {},
   "outputs": [
    {
     "data": {
      "text/plain": [
       "{'model': 'bert-base-multilingual-cased',\n",
       " 'device': 'cpu',\n",
       " 'dtype_fp16': False,\n",
       " 'hidden': 768,\n",
       " 'batch_size': 128,\n",
       " 'max_len': 64,\n",
       " 'train_shape': (171602, 768),\n",
       " 'val_shape': (36558, 768)}"
      ]
     },
     "execution_count": 8,
     "metadata": {},
     "output_type": "execute_result"
    }
   ],
   "source": [
    "resumen = {\n",
    "    \"model\": MODEL_NAME,\n",
    "    \"device\": str(device),\n",
    "    \"dtype_fp16\": bool(DTYPE_FP16 and device.type==\"cuda\"),\n",
    "    \"hidden\": int(HIDDEN),\n",
    "    \"batch_size\": int(BATCH_SIZE),\n",
    "    \"max_len\": int(MAX_LEN),\n",
    "    \"train_shape\": tuple(X_tr.shape),\n",
    "    \"val_shape\": tuple(X_va.shape),\n",
    "}\n",
    "(Path(FEAT) / \"contextual_resumen.json\").write_text(json.dumps(resumen, indent=2), encoding=\"utf-8\")\n",
    "resumen"
   ]
  },
  {
   "cell_type": "markdown",
   "id": "ebed1c74",
   "metadata": {},
   "source": [
    "Sí. Vamos con el 04.\n",
    "\n",
    "### Nombre del notebook\n",
    "\n",
    "`04_embeddings_contextuales.ipynb`\n",
    "\n",
    "### Secciones\n",
    "\n",
    "1. Objetivo\n",
    "2. Imports y config\n",
    "3. Rutas\n",
    "4. Carga processed\n",
    "5. Modelo y tokenizer\n",
    "6. Funciones de batching y pooling\n",
    "7. Embeddings por split (train/validation)\n",
    "8. Resumen y guardado\n",
    "\n",
    "---\n",
    "\n",
    "#### 1) Objetivo\n",
    "\n",
    "```python\n",
    "# Extraer embeddings contextuales por frase desde BERT multilingüe.\n",
    "# Mean pooling con attention_mask.\n",
    "# Guardar matrices y metadatos para E3/E4.\n",
    "```\n",
    "\n",
    "#### 2) Imports y config\n",
    "\n",
    "```python\n",
    "from pathlib import Path\n",
    "import json\n",
    "import numpy as np\n",
    "import pandas as pd\n",
    "import torch\n",
    "from transformers import AutoTokenizer, AutoModel\n",
    "\n",
    "SEED = 42\n",
    "BATCH_SIZE = 128\n",
    "MAX_LEN = 64\n",
    "MODEL_NAME = \"bert-base-multilingual-cased\"  # robusto multi-idioma\n",
    "DTYPE_FP16 = True  # usa FP16 en CUDA si disponible\n",
    "\n",
    "torch.manual_seed(SEED)\n",
    "pd.set_option(\"display.max_colwidth\", 120)\n",
    "```\n",
    "\n",
    "#### 3) Rutas\n",
    "\n",
    "```python\n",
    "def find_root():\n",
    "    p = Path.cwd()\n",
    "    for cand in [p, *p.parents]:\n",
    "        if (cand / \"data\" / \"processed\").exists():\n",
    "            return cand\n",
    "    raise FileNotFoundError(\"No encuentro data/processed.\")\n",
    "\n",
    "ROOT = find_root()\n",
    "PROC = ROOT / \"data\" / \"processed\"\n",
    "FEAT = ROOT / \"features\" / \"embeddings_contextual\"\n",
    "FEAT.mkdir(parents=True, exist_ok=True)\n",
    "\n",
    "NIVELES = [\"easy\",\"medium\",\"hard\"]\n",
    "SPLITS = [\"train\",\"validation\"]\n",
    "```\n",
    "\n",
    "#### 4) Carga processed\n",
    "\n",
    "```python\n",
    "def cargar_split(split):\n",
    "    rows = []\n",
    "    for lvl in NIVELES:\n",
    "        p = PROC / lvl / split / \"sentences.jsonl\"\n",
    "        if p.exists():\n",
    "            df = pd.read_json(p, lines=True)\n",
    "            df[\"level\"] = lvl\n",
    "            df[\"split\"] = split\n",
    "            rows.append(df[[\"level\",\"split\",\"doc_id\",\"sent_id\",\"text_norm\"]])\n",
    "    if not rows:\n",
    "        return pd.DataFrame(columns=[\"level\",\"split\",\"doc_id\",\"sent_id\",\"text_norm\"])\n",
    "    return pd.concat(rows, ignore_index=True).sort_values([\"level\",\"doc_id\",\"sent_id\"]).reset_index(drop=True)\n",
    "\n",
    "df_tr = cargar_split(\"train\")\n",
    "df_va = cargar_split(\"validation\")\n",
    "print(df_tr.shape, df_va.shape)\n",
    "```\n",
    "\n",
    "#### 5) Modelo y tokenizer\n",
    "\n",
    "```python\n",
    "device = torch.device(\"cuda\" if torch.cuda.is_available() else \"cpu\")\n",
    "tokenizer = AutoTokenizer.from_pretrained(MODEL_NAME)\n",
    "model = AutoModel.from_pretrained(MODEL_NAME)\n",
    "if device.type == \"cuda\" and DTYPE_FP16:\n",
    "    model = model.half()\n",
    "model = model.to(device).eval()\n",
    "\n",
    "HIDDEN = model.config.hidden_size\n",
    "print(\"device:\", device, \"hidden:\", HIDDEN)\n",
    "```\n",
    "\n",
    "#### 6) Funciones de batching y pooling\n",
    "\n",
    "```python\n",
    "def batches(lst, bs):\n",
    "    for i in range(0, len(lst), bs):\n",
    "        yield lst[i:i+bs]\n",
    "\n",
    "@torch.no_grad()\n",
    "def embed_texts(texts):\n",
    "    # Prealoca salida\n",
    "    out = np.zeros((len(texts), HIDDEN), dtype=np.float32)\n",
    "    k = 0\n",
    "    for chunk in batches(texts, BATCH_SIZE):\n",
    "        enc = tokenizer(\n",
    "            chunk,\n",
    "            padding=True,\n",
    "            truncation=True,\n",
    "            max_length=MAX_LEN,\n",
    "            return_tensors=\"pt\"\n",
    "        )\n",
    "        enc = {k2: v.to(device) for k2, v in enc.items()}\n",
    "        with torch.cuda.amp.autocast(enabled=(device.type==\"cuda\" and DTYPE_FP16)):\n",
    "            last = model(**enc).last_hidden_state  # [bs, seq, hidden]\n",
    "            mask = enc[\"attention_mask\"].unsqueeze(-1)  # [bs, seq, 1]\n",
    "            masked = last * mask\n",
    "            # mean pooling seguro\n",
    "            denom = mask.sum(dim=1).clamp(min=1)\n",
    "            sent_emb = masked.sum(dim=1) / denom\n",
    "        bs = sent_emb.size(0)\n",
    "        out[k:k+bs] = sent_emb.detach().float().cpu().numpy()\n",
    "        k += bs\n",
    "    return out\n",
    "```\n",
    "\n",
    "#### 7) Embeddings por split\n",
    "\n",
    "```python\n",
    "# TRAIN\n",
    "texts_tr = df_tr[\"text_norm\"].astype(str).tolist()\n",
    "X_tr = embed_texts(texts_tr)\n",
    "np.save(FEAT / \"C_train.npy\", X_tr)\n",
    "df_tr[[\"level\",\"split\",\"doc_id\",\"sent_id\"]].to_csv(FEAT / \"C_train_index.csv\", index=False)\n",
    "print(\"TRAIN:\", X_tr.shape, \"guardado.\")\n",
    "\n",
    "# VALIDATION\n",
    "texts_va = df_va[\"text_norm\"].astype(str).tolist()\n",
    "X_va = embed_texts(texts_va)\n",
    "np.save(FEAT / \"C_validation.npy\", X_va)\n",
    "df_va[[\"level\",\"split\",\"doc_id\",\"sent_id\"]].to_csv(FEAT / \"C_validation_index.csv\", index=False)\n",
    "print(\"VAL:\", X_va.shape, \"guardado.\")\n",
    "```\n",
    "\n",
    "#### 8) Resumen y guardado\n",
    "\n",
    "```python\n",
    "resumen = {\n",
    "    \"model\": MODEL_NAME,\n",
    "    \"device\": str(device),\n",
    "    \"dtype_fp16\": bool(DTYPE_FP16 and device.type==\"cuda\"),\n",
    "    \"hidden\": int(HIDDEN),\n",
    "    \"batch_size\": int(BATCH_SIZE),\n",
    "    \"max_len\": int(MAX_LEN),\n",
    "    \"train_shape\": tuple(X_tr.shape),\n",
    "    \"val_shape\": tuple(X_va.shape),\n",
    "}\n",
    "(Path(FEAT) / \"contextual_resumen.json\").write_text(json.dumps(resumen, indent=2), encoding=\"utf-8\")\n",
    "resumen\n",
    "```\n",
    "\n",
    "---\n",
    "\n",
    "### Informe breve — `04_embeddings_contextuales.ipynb`\n",
    "\n",
    "**Objetivo.** Extraer embeddings contextuales por frase con `bert-base-multilingual-cased` usando mean pooling y `attention_mask`.\n",
    "\n",
    "**Config.** `MAX_LEN=64`, `BATCH_SIZE=128`, FP16 en CUDA, `hidden=768`.\n",
    "\n",
    "**Salidas.**\n",
    "\n",
    "* `features/embeddings_contextual/C_train.npy` y `C_validation.npy`.\n",
    "* Índices: `C_{split}_index.csv`.\n",
    "* Resumen: `contextual_resumen.json` con modelo, shapes y parámetros.\n",
    "\n",
    "**Notas.**\n",
    "\n",
    "* Ajusta `BATCH_SIZE` si VRAM es limitada.\n",
    "* Si el corpus es mayoritariamente español, alternativa: `\"dccuchile/bert-base-spanish-wwm-cased\"`.\n",
    "* Estas matrices sirven directas para baselines por similitud o para modelos clásicos."
   ]
  }
 ],
 "metadata": {
  "kernelspec": {
   "display_name": "work",
   "language": "python",
   "name": "python3"
  },
  "language_info": {
   "codemirror_mode": {
    "name": "ipython",
    "version": 3
   },
   "file_extension": ".py",
   "mimetype": "text/x-python",
   "name": "python",
   "nbconvert_exporter": "python",
   "pygments_lexer": "ipython3",
   "version": "3.11.13"
  }
 },
 "nbformat": 4,
 "nbformat_minor": 5
}
