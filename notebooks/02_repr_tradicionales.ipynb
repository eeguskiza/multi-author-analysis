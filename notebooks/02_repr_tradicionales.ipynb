{
 "cells": [
  {
   "cell_type": "code",
   "execution_count": 1,
   "id": "dbf07cd0",
   "metadata": {},
   "outputs": [],
   "source": [
    "# Generar representaciones tradicionales:\n",
    "# - TF-IDF de palabras.\n",
    "# - TF-IDF de n-gramas de caracteres.\n",
    "# Usaremos solo TRAIN para ajustar y transformaremos TRAIN y VALIDATION.\n",
    "# Guardamos matrices .npz, vectorizers .pkl y un índice con doc_id/sent_id."
   ]
  },
  {
   "cell_type": "markdown",
   "id": "25647f9d",
   "metadata": {},
   "source": [
    "#### ***Imports y config***"
   ]
  },
  {
   "cell_type": "code",
   "execution_count": 2,
   "id": "d3df41a2",
   "metadata": {},
   "outputs": [],
   "source": [
    "from pathlib import Path\n",
    "import pandas as pd\n",
    "import numpy as np\n",
    "import pickle, json\n",
    "from scipy import sparse\n",
    "from sklearn.feature_extraction.text import TfidfVectorizer\n",
    "\n",
    "pd.set_option(\"display.max_colwidth\", 120)\n",
    "SEED = 42"
   ]
  },
  {
   "cell_type": "markdown",
   "id": "6392b121",
   "metadata": {},
   "source": [
    "#### ***Rutas***"
   ]
  },
  {
   "cell_type": "code",
   "execution_count": 3,
   "id": "846678a7",
   "metadata": {},
   "outputs": [],
   "source": [
    "def find_root():\n",
    "    p = Path.cwd()\n",
    "    for cand in [p, *p.parents]:\n",
    "        if (cand / \"data\" / \"processed\").exists():\n",
    "            return cand\n",
    "    raise FileNotFoundError(\"No encuentro data/processed.\")\n",
    "\n",
    "ROOT = find_root()\n",
    "PROC = ROOT / \"data\" / \"processed\"\n",
    "FEAT = ROOT / \"features\" / \"tfidf\"\n",
    "FEAT.mkdir(parents=True, exist_ok=True)\n",
    "\n",
    "NIVELES = [\"easy\",\"medium\",\"hard\"]\n",
    "SPLITS = [\"train\",\"validation\"]"
   ]
  },
  {
   "cell_type": "markdown",
   "id": "e4261991",
   "metadata": {},
   "source": [
    "#### ***Carga de processed → DataFrame***"
   ]
  },
  {
   "cell_type": "code",
   "execution_count": null,
   "id": "8837a7b4",
   "metadata": {},
   "outputs": [
    {
     "name": "stdout",
     "output_type": "stream",
     "text": [
      "(208160, 5) filas\n"
     ]
    },
    {
     "data": {
      "text/html": [
       "<div>\n",
       "<style scoped>\n",
       "    .dataframe tbody tr th:only-of-type {\n",
       "        vertical-align: middle;\n",
       "    }\n",
       "\n",
       "    .dataframe tbody tr th {\n",
       "        vertical-align: top;\n",
       "    }\n",
       "\n",
       "    .dataframe thead th {\n",
       "        text-align: right;\n",
       "    }\n",
       "</style>\n",
       "<table border=\"1\" class=\"dataframe\">\n",
       "  <thead>\n",
       "    <tr style=\"text-align: right;\">\n",
       "      <th></th>\n",
       "      <th>doc_id</th>\n",
       "      <th>sent_id</th>\n",
       "      <th>level</th>\n",
       "      <th>split</th>\n",
       "      <th>text_norm</th>\n",
       "    </tr>\n",
       "  </thead>\n",
       "  <tbody>\n",
       "    <tr>\n",
       "      <th>0</th>\n",
       "      <td>problem-1</td>\n",
       "      <td>0</td>\n",
       "      <td>easy</td>\n",
       "      <td>train</td>\n",
       "      <td>there s also incidents of testosterone insensitive males that have either ambiguous genitals or are phenotypically f...</td>\n",
       "    </tr>\n",
       "    <tr>\n",
       "      <th>1</th>\n",
       "      <td>problem-1</td>\n",
       "      <td>1</td>\n",
       "      <td>easy</td>\n",
       "      <td>train</td>\n",
       "      <td>female is the human default body plan so a number of conditions exist that cause female looking males</td>\n",
       "    </tr>\n",
       "    <tr>\n",
       "      <th>2</th>\n",
       "      <td>problem-1</td>\n",
       "      <td>2</td>\n",
       "      <td>easy</td>\n",
       "      <td>train</td>\n",
       "      <td>what about people born appearing num female complete with the bits but are genetically males</td>\n",
       "    </tr>\n",
       "  </tbody>\n",
       "</table>\n",
       "</div>"
      ],
      "text/plain": [
       "      doc_id  sent_id level  split  \\\n",
       "0  problem-1        0  easy  train   \n",
       "1  problem-1        1  easy  train   \n",
       "2  problem-1        2  easy  train   \n",
       "\n",
       "                                                                                                                 text_norm  \n",
       "0  there s also incidents of testosterone insensitive males that have either ambiguous genitals or are phenotypically f...  \n",
       "1                    female is the human default body plan so a number of conditions exist that cause female looking males  \n",
       "2                             what about people born appearing num female complete with the bits but are genetically males  "
      ]
     },
     "execution_count": 4,
     "metadata": {},
     "output_type": "execute_result"
    }
   ],
   "source": [
    "def cargar_processed():\n",
    "    filas = []\n",
    "    for level in NIVELES:\n",
    "        for split in SPLITS:\n",
    "            p = PROC / level / split / \"sentences.jsonl\"\n",
    "            if not p.exists():\n",
    "                continue\n",
    "            df = pd.read_json(p, lines=True)\n",
    "            df[\"level\"] = level\n",
    "            df[\"split\"] = split\n",
    "            filas.append(df[[\"doc_id\",\"sent_id\",\"level\",\"split\",\"text_norm\"]])\n",
    "    return pd.concat(filas, ignore_index=True)\n",
    "\n",
    "df = cargar_processed().sort_values([\"level\",\"split\",\"doc_id\",\"sent_id\"]).reset_index(drop=True)\n",
    "print(df.shape, \"filas\")\n",
    "df.head(3)"
   ]
  },
  {
   "cell_type": "markdown",
   "id": "5727bef0",
   "metadata": {},
   "source": [
    "#### ***TF-IDF de palabras***"
   ]
  },
  {
   "cell_type": "code",
   "execution_count": 5,
   "id": "1e68e466",
   "metadata": {},
   "outputs": [
    {
     "name": "stdout",
     "output_type": "stream",
     "text": [
      "WORD TF-IDF\n",
      "train: (171602, 85932) nnz: 4449125\n",
      "val  : (36558, 85932) nnz: 937263\n"
     ]
    }
   ],
   "source": [
    "# Ajuste en TRAIN\n",
    "df_train = df[df[\"split\"] == \"train\"]\n",
    "corpus_train = df_train[\"text_norm\"].astype(str).tolist()\n",
    "\n",
    "vec_word = TfidfVectorizer(\n",
    "    lowercase=False,          # ya normalizado\n",
    "    analyzer=\"word\",\n",
    "    ngram_range=(1,2),        # unigrams + bigrams\n",
    "    min_df=5,                 # filtra ruido\n",
    "    max_features=100_000\n",
    ")\n",
    "Xtr_w = vec_word.fit_transform(corpus_train)\n",
    "\n",
    "# Transform VALIDATION\n",
    "df_val = df[df[\"split\"] == \"validation\"]\n",
    "Xva_w = vec_word.transform(df_val[\"text_norm\"].astype(str).tolist())\n",
    "\n",
    "print(\"WORD TF-IDF\")\n",
    "print(\"train:\", Xtr_w.shape, \"nnz:\", Xtr_w.nnz)\n",
    "print(\"val  :\", Xva_w.shape, \"nnz:\", Xva_w.nnz)"
   ]
  },
  {
   "cell_type": "markdown",
   "id": "709e2581",
   "metadata": {},
   "source": [
    "#### ***TF-IDF de n-gramas de caracteres***"
   ]
  },
  {
   "cell_type": "code",
   "execution_count": 6,
   "id": "b1808d46",
   "metadata": {},
   "outputs": [
    {
     "name": "stdout",
     "output_type": "stream",
     "text": [
      "CHAR TF-IDF\n",
      "train: (171602, 134419) nnz: 45449143\n",
      "val  : (36558, 134419) nnz: 9754529\n"
     ]
    }
   ],
   "source": [
    "vec_char = TfidfVectorizer(\n",
    "    analyzer=\"char\",\n",
    "    ngram_range=(3,5),\n",
    "    min_df=5,\n",
    "    max_features=200_000\n",
    ")\n",
    "Xtr_c = vec_char.fit_transform(corpus_train)\n",
    "Xva_c = vec_char.transform(df_val[\"text_norm\"].astype(str).tolist())\n",
    "\n",
    "print(\"CHAR TF-IDF\")\n",
    "print(\"train:\", Xtr_c.shape, \"nnz:\", Xtr_c.nnz)\n",
    "print(\"val  :\", Xva_c.shape, \"nnz:\", Xva_c.nnz)"
   ]
  },
  {
   "cell_type": "markdown",
   "id": "53d80627",
   "metadata": {},
   "source": [
    "#### ***Guardado de matrices y metadatos***"
   ]
  },
  {
   "cell_type": "code",
   "execution_count": 7,
   "id": "43c09c88",
   "metadata": {},
   "outputs": [
    {
     "name": "stdout",
     "output_type": "stream",
     "text": [
      "Guardado en features/tfidf/\n"
     ]
    }
   ],
   "source": [
    "# Índices para mapear filas → (level, split, doc_id, sent_id)\n",
    "idx_train = df_train[[\"level\",\"split\",\"doc_id\",\"sent_id\"]].reset_index(drop=True)\n",
    "idx_val   = df_val[[\"level\",\"split\",\"doc_id\",\"sent_id\"]].reset_index(drop=True)\n",
    "\n",
    "# Carpetas\n",
    "( FEAT / \"word\" ).mkdir(parents=True, exist_ok=True)\n",
    "( FEAT / \"char\" ).mkdir(parents=True, exist_ok=True)\n",
    "\n",
    "# WORD\n",
    "sparse.save_npz(FEAT / \"word\" / \"X_train_word.npz\", Xtr_w)\n",
    "sparse.save_npz(FEAT / \"word\" / \"X_val_word.npz\",   Xva_w)\n",
    "pickle.dump(vec_word, open(FEAT / \"word\" / \"vectorizer_word.pkl\",\"wb\"))\n",
    "idx_train.to_csv(FEAT / \"word\" / \"index_train.csv\", index=False)\n",
    "idx_val.to_csv(  FEAT / \"word\" / \"index_val.csv\",   index=False)\n",
    "\n",
    "# CHAR\n",
    "sparse.save_npz(FEAT / \"char\" / \"X_train_char.npz\", Xtr_c)\n",
    "sparse.save_npz(FEAT / \"char\" / \"X_val_char.npz\",   Xva_c)\n",
    "pickle.dump(vec_char, open(FEAT / \"char\" / \"vectorizer_char.pkl\",\"wb\"))\n",
    "idx_train.to_csv(FEAT / \"char\" / \"index_train.csv\", index=False)\n",
    "idx_val.to_csv(  FEAT / \"char\" / \"index_val.csv\",   index=False)\n",
    "\n",
    "# Informe JSON mínimo\n",
    "reporte = {\n",
    "    \"word\": {\n",
    "        \"shape_train\": Xtr_w.shape, \"nnz_train\": int(Xtr_w.nnz),\n",
    "        \"shape_val\":   Xva_w.shape, \"nnz_val\":   int(Xva_w.nnz),\n",
    "        \"vocab_size\":  len(vec_word.vocabulary_)\n",
    "    },\n",
    "    \"char\": {\n",
    "        \"shape_train\": Xtr_c.shape, \"nnz_train\": int(Xtr_c.nnz),\n",
    "        \"shape_val\":   Xva_c.shape, \"nnz_val\":   int(Xva_c.nnz),\n",
    "        \"vocab_size\":  len(vec_char.vocabulary_)\n",
    "    }\n",
    "}\n",
    "(Path(FEAT) / \"tfidf_resumen.json\").write_text(json.dumps(reporte, indent=2), encoding=\"utf-8\")\n",
    "print(\"Guardado en features/tfidf/\")"
   ]
  },
  {
   "cell_type": "markdown",
   "id": "02d7623e",
   "metadata": {},
   "source": [
    "#### ***Tests FInales***"
   ]
  },
  {
   "cell_type": "code",
   "execution_count": 8,
   "id": "605b1843",
   "metadata": {},
   "outputs": [
    {
     "data": {
      "text/html": [
       "<div>\n",
       "<style scoped>\n",
       "    .dataframe tbody tr th:only-of-type {\n",
       "        vertical-align: middle;\n",
       "    }\n",
       "\n",
       "    .dataframe tbody tr th {\n",
       "        vertical-align: top;\n",
       "    }\n",
       "\n",
       "    .dataframe thead th {\n",
       "        text-align: right;\n",
       "    }\n",
       "</style>\n",
       "<table border=\"1\" class=\"dataframe\">\n",
       "  <thead>\n",
       "    <tr style=\"text-align: right;\">\n",
       "      <th></th>\n",
       "      <th>term</th>\n",
       "      <th>tfidf_mean</th>\n",
       "    </tr>\n",
       "  </thead>\n",
       "  <tbody>\n",
       "    <tr>\n",
       "      <th>0</th>\n",
       "      <td>the</td>\n",
       "      <td>0.034300</td>\n",
       "    </tr>\n",
       "    <tr>\n",
       "      <th>1</th>\n",
       "      <td>to</td>\n",
       "      <td>0.026840</td>\n",
       "    </tr>\n",
       "    <tr>\n",
       "      <th>2</th>\n",
       "      <td>and</td>\n",
       "      <td>0.022177</td>\n",
       "    </tr>\n",
       "    <tr>\n",
       "      <th>3</th>\n",
       "      <td>of</td>\n",
       "      <td>0.020698</td>\n",
       "    </tr>\n",
       "    <tr>\n",
       "      <th>4</th>\n",
       "      <td>in</td>\n",
       "      <td>0.018026</td>\n",
       "    </tr>\n",
       "    <tr>\n",
       "      <th>5</th>\n",
       "      <td>it</td>\n",
       "      <td>0.017368</td>\n",
       "    </tr>\n",
       "    <tr>\n",
       "      <th>6</th>\n",
       "      <td>is</td>\n",
       "      <td>0.017342</td>\n",
       "    </tr>\n",
       "    <tr>\n",
       "      <th>7</th>\n",
       "      <td>that</td>\n",
       "      <td>0.016891</td>\n",
       "    </tr>\n",
       "    <tr>\n",
       "      <th>8</th>\n",
       "      <td>they</td>\n",
       "      <td>0.013748</td>\n",
       "    </tr>\n",
       "    <tr>\n",
       "      <th>9</th>\n",
       "      <td>you</td>\n",
       "      <td>0.013222</td>\n",
       "    </tr>\n",
       "  </tbody>\n",
       "</table>\n",
       "</div>"
      ],
      "text/plain": [
       "   term  tfidf_mean\n",
       "0   the    0.034300\n",
       "1    to    0.026840\n",
       "2   and    0.022177\n",
       "3    of    0.020698\n",
       "4    in    0.018026\n",
       "5    it    0.017368\n",
       "6    is    0.017342\n",
       "7  that    0.016891\n",
       "8  they    0.013748\n",
       "9   you    0.013222"
      ]
     },
     "execution_count": 8,
     "metadata": {},
     "output_type": "execute_result"
    }
   ],
   "source": [
    "# Terminos más pesados por TF-IDF medio en TRAIN (palabras)\n",
    "col_means = np.asarray(Xtr_w.mean(axis=0)).ravel()\n",
    "top_idx = col_means.argsort()[-10:][::-1]\n",
    "inv_vocab = {j:i for i,j in vec_word.vocabulary_.items()}\n",
    "top_terms = [inv_vocab[i] for i in top_idx]\n",
    "pd.DataFrame({\"term\": top_terms, \"tfidf_mean\": col_means[top_idx].round(6)})"
   ]
  },
  {
   "cell_type": "markdown",
   "id": "93cf06b8",
   "metadata": {},
   "source": [
    "Va bien. Resultados correctos y suficientes para E2. Char-ngrams densos pero ok; word TF-IDF dominado por funcionales, coherente con señal de estilo. \n",
    "\n",
    "# Informe breve — `02_representaciones_tradicionales.ipynb`\n",
    "\n",
    "## Objetivo\n",
    "\n",
    "Crear TF-IDF de palabras y de n-gramas de caracteres desde `processed` para baselines y modelos. \n",
    "\n",
    "## Resultados\n",
    "\n",
    "**WORD TF-IDF**\n",
    "\n",
    "* Train: `(171602, 85932)`, nnz `4,449,125`\n",
    "* Val: `(36558, 85932)`, nnz `937,263`\n",
    "* Top términos por TF-IDF medio: function words en inglés (`the, to, and…`). \n",
    "\n",
    "**CHAR TF-IDF (3–5)**\n",
    "\n",
    "* Train: `(171602, 134419)`, nnz `45,449,143`\n",
    "* Val: `(36558, 134419)`, nnz `9,754,529` \n",
    "\n",
    "## Validaciones\n",
    "\n",
    "* Ajuste solo en **train** y transformación en **train/validation**.\n",
    "* Índices guardados para mapear filas ↔ `(level, split, doc_id, sent_id)`.\n",
    "* Vectorizadores y matrices persistidos en `features/tfidf/{word,char}/`. \n",
    "\n",
    "## Recomendaciones opcionales\n",
    "\n",
    "* Reducir memoria en CHAR: `dtype=np.float32` y/o `min_df=10`.\n",
    "* Probar `sublinear_tf=True` para atenuar ráfagas en n-gramas.\n",
    "* Mantener **sin** stopwords en WORD para preservar señal estilística.\n",
    "* Si falta RAM, bajar `max_features` a 60–80k (word) y 100–120k (char). \n",
    "\n",
    "## Salidas guardadas\n",
    "\n",
    "* `features/tfidf/word/`: `X_train_word.npz`, `X_val_word.npz`, `vectorizer_word.pkl`, `index_{train,val}.csv`\n",
    "* `features/tfidf/char/`: `X_train_char.npz`, `X_val_char.npz`, `vectorizer_char.pkl`, `index_{train,val}.csv`\n",
    "* `features/tfidf/tfidf_resumen.json` (shapes, nnz, vocab). "
   ]
  }
 ],
 "metadata": {
  "kernelspec": {
   "display_name": "work",
   "language": "python",
   "name": "python3"
  },
  "language_info": {
   "codemirror_mode": {
    "name": "ipython",
    "version": 3
   },
   "file_extension": ".py",
   "mimetype": "text/x-python",
   "name": "python",
   "nbconvert_exporter": "python",
   "pygments_lexer": "ipython3",
   "version": "3.11.13"
  }
 },
 "nbformat": 4,
 "nbformat_minor": 5
}
