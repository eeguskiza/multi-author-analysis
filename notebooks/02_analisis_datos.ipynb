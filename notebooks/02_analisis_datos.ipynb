{
 "cells": [
  {
   "cell_type": "code",
   "execution_count": null,
   "id": "44c107b9",
   "metadata": {},
   "outputs": [],
   "source": [
    "# Analizar data/processed para validar el corpus y orientar features.\n",
    "# Entradas: sentences.jsonl por nivel y split.\n",
    "# Salidas: tablas CSV y figuras en reports/."
   ]
  },
  {
   "cell_type": "markdown",
   "id": "aaf8366c",
   "metadata": {},
   "source": [
    "#### ***Imports y config***"
   ]
  },
  {
   "cell_type": "code",
   "execution_count": 1,
   "id": "6d84ff7c",
   "metadata": {},
   "outputs": [],
   "source": [
    "from pathlib import Path\n",
    "import pandas as pd\n",
    "import numpy as np\n",
    "import matplotlib.pyplot as plt\n",
    "\n",
    "pd.set_option(\"display.max_colwidth\", 120)\n",
    "SEED = 42"
   ]
  },
  {
   "cell_type": "markdown",
   "id": "10ef043b",
   "metadata": {},
   "source": [
    "#### ***Rutas***"
   ]
  },
  {
   "cell_type": "code",
   "execution_count": 2,
   "id": "c9f9bce2",
   "metadata": {},
   "outputs": [],
   "source": [
    "def find_root():\n",
    "    p = Path.cwd()\n",
    "    for cand in [p, *p.parents]:\n",
    "        if (cand / \"data\" / \"processed\").exists():\n",
    "            return cand\n",
    "    raise FileNotFoundError(\"No encuentro data/processed.\")\n",
    "\n",
    "ROOT = find_root()\n",
    "PROC = ROOT / \"data\" / \"processed\"\n",
    "REPORTS = ROOT / \"reports\"\n",
    "REPORTS.mkdir(parents=True, exist_ok=True)\n",
    "\n",
    "NIVELES = [\"easy\",\"medium\",\"hard\"]\n",
    "SPLITS = [\"train\",\"validation\"]"
   ]
  },
  {
   "cell_type": "markdown",
   "id": "276db446",
   "metadata": {},
   "source": [
    "#### ***Carga de processed***"
   ]
  },
  {
   "cell_type": "code",
   "execution_count": 3,
   "id": "4260b0eb",
   "metadata": {},
   "outputs": [
    {
     "data": {
      "text/html": [
       "<div>\n",
       "<style scoped>\n",
       "    .dataframe tbody tr th:only-of-type {\n",
       "        vertical-align: middle;\n",
       "    }\n",
       "\n",
       "    .dataframe tbody tr th {\n",
       "        vertical-align: top;\n",
       "    }\n",
       "\n",
       "    .dataframe thead th {\n",
       "        text-align: right;\n",
       "    }\n",
       "</style>\n",
       "<table border=\"1\" class=\"dataframe\">\n",
       "  <thead>\n",
       "    <tr style=\"text-align: right;\">\n",
       "      <th></th>\n",
       "      <th>doc_id</th>\n",
       "      <th>sent_id</th>\n",
       "      <th>level</th>\n",
       "      <th>split</th>\n",
       "      <th>text_norm</th>\n",
       "      <th>n_tokens</th>\n",
       "      <th>is_boundary</th>\n",
       "    </tr>\n",
       "  </thead>\n",
       "  <tbody>\n",
       "    <tr>\n",
       "      <th>0</th>\n",
       "      <td>problem-1734</td>\n",
       "      <td>0</td>\n",
       "      <td>easy</td>\n",
       "      <td>train</td>\n",
       "      <td>i learned this about ukraine a while back and i think it was mila kunis who said it and i knew about it since</td>\n",
       "      <td>24</td>\n",
       "      <td>False</td>\n",
       "    </tr>\n",
       "    <tr>\n",
       "      <th>1</th>\n",
       "      <td>problem-1734</td>\n",
       "      <td>1</td>\n",
       "      <td>easy</td>\n",
       "      <td>train</td>\n",
       "      <td>it s easy for some to make the mistake as back then i had no idea either</td>\n",
       "      <td>17</td>\n",
       "      <td>False</td>\n",
       "    </tr>\n",
       "    <tr>\n",
       "      <th>2</th>\n",
       "      <td>problem-1734</td>\n",
       "      <td>2</td>\n",
       "      <td>easy</td>\n",
       "      <td>train</td>\n",
       "      <td>but when ppl see others say it the respectfully correct them</td>\n",
       "      <td>11</td>\n",
       "      <td>False</td>\n",
       "    </tr>\n",
       "    <tr>\n",
       "      <th>3</th>\n",
       "      <td>problem-1734</td>\n",
       "      <td>3</td>\n",
       "      <td>easy</td>\n",
       "      <td>train</td>\n",
       "      <td>it s an offensive way to refer to ukraine and is an old soviet term and minimizes the legitimacy of them being a fre...</td>\n",
       "      <td>30</td>\n",
       "      <td>False</td>\n",
       "    </tr>\n",
       "    <tr>\n",
       "      <th>4</th>\n",
       "      <td>problem-1734</td>\n",
       "      <td>4</td>\n",
       "      <td>easy</td>\n",
       "      <td>train</td>\n",
       "      <td>similar to how ppl correct others when they use the russian soviet spelling of kyiv and say kiev</td>\n",
       "      <td>18</td>\n",
       "      <td>False</td>\n",
       "    </tr>\n",
       "  </tbody>\n",
       "</table>\n",
       "</div>"
      ],
      "text/plain": [
       "         doc_id  sent_id level  split  \\\n",
       "0  problem-1734        0  easy  train   \n",
       "1  problem-1734        1  easy  train   \n",
       "2  problem-1734        2  easy  train   \n",
       "3  problem-1734        3  easy  train   \n",
       "4  problem-1734        4  easy  train   \n",
       "\n",
       "                                                                                                                 text_norm  \\\n",
       "0            i learned this about ukraine a while back and i think it was mila kunis who said it and i knew about it since   \n",
       "1                                                 it s easy for some to make the mistake as back then i had no idea either   \n",
       "2                                                             but when ppl see others say it the respectfully correct them   \n",
       "3  it s an offensive way to refer to ukraine and is an old soviet term and minimizes the legitimacy of them being a fre...   \n",
       "4                         similar to how ppl correct others when they use the russian soviet spelling of kyiv and say kiev   \n",
       "\n",
       "   n_tokens  is_boundary  \n",
       "0        24        False  \n",
       "1        17        False  \n",
       "2        11        False  \n",
       "3        30        False  \n",
       "4        18        False  "
      ]
     },
     "metadata": {},
     "output_type": "display_data"
    },
    {
     "name": "stdout",
     "output_type": "stream",
     "text": [
      "Frases cargadas: 208160\n"
     ]
    }
   ],
   "source": [
    "dfs = []\n",
    "for level in NIVELES:\n",
    "    for split in SPLITS:\n",
    "        p = PROC / level / split / \"sentences.jsonl\"\n",
    "        if not p.exists():\n",
    "            continue\n",
    "        df = pd.read_json(p, lines=True)\n",
    "        df[\"level\"] = level\n",
    "        df[\"split\"] = split\n",
    "        dfs.append(df)\n",
    "\n",
    "df = pd.concat(dfs, ignore_index=True)\n",
    "df[\"n_tokens\"] = df[\"n_tokens\"].astype(int)\n",
    "df[\"sent_id\"] = df[\"sent_id\"].astype(int)\n",
    "df[\"is_boundary\"] = df[\"is_boundary\"].astype(bool)\n",
    "display(df.head())\n",
    "print(\"Frases cargadas:\", len(df))"
   ]
  },
  {
   "cell_type": "markdown",
   "id": "11dac8f7",
   "metadata": {},
   "source": [
    "#### ***Métricas base***"
   ]
  },
  {
   "cell_type": "code",
   "execution_count": 4,
   "id": "d2567770",
   "metadata": {},
   "outputs": [
    {
     "data": {
      "text/html": [
       "<div>\n",
       "<style scoped>\n",
       "    .dataframe tbody tr th:only-of-type {\n",
       "        vertical-align: middle;\n",
       "    }\n",
       "\n",
       "    .dataframe tbody tr th {\n",
       "        vertical-align: top;\n",
       "    }\n",
       "\n",
       "    .dataframe thead th {\n",
       "        text-align: right;\n",
       "    }\n",
       "</style>\n",
       "<table border=\"1\" class=\"dataframe\">\n",
       "  <thead>\n",
       "    <tr style=\"text-align: right;\">\n",
       "      <th></th>\n",
       "      <th>level</th>\n",
       "      <th>split</th>\n",
       "      <th>n_frases</th>\n",
       "      <th>med_tokens_frase</th>\n",
       "      <th>p25_tokens</th>\n",
       "      <th>p75_tokens</th>\n",
       "    </tr>\n",
       "  </thead>\n",
       "  <tbody>\n",
       "    <tr>\n",
       "      <th>0</th>\n",
       "      <td>easy</td>\n",
       "      <td>train</td>\n",
       "      <td>52701</td>\n",
       "      <td>13.0</td>\n",
       "      <td>7.0</td>\n",
       "      <td>23.0</td>\n",
       "    </tr>\n",
       "    <tr>\n",
       "      <th>1</th>\n",
       "      <td>easy</td>\n",
       "      <td>validation</td>\n",
       "      <td>11146</td>\n",
       "      <td>13.0</td>\n",
       "      <td>8.0</td>\n",
       "      <td>23.0</td>\n",
       "    </tr>\n",
       "    <tr>\n",
       "      <th>2</th>\n",
       "      <td>hard</td>\n",
       "      <td>train</td>\n",
       "      <td>55515</td>\n",
       "      <td>17.0</td>\n",
       "      <td>10.0</td>\n",
       "      <td>26.0</td>\n",
       "    </tr>\n",
       "    <tr>\n",
       "      <th>3</th>\n",
       "      <td>hard</td>\n",
       "      <td>validation</td>\n",
       "      <td>11649</td>\n",
       "      <td>18.0</td>\n",
       "      <td>10.0</td>\n",
       "      <td>26.0</td>\n",
       "    </tr>\n",
       "    <tr>\n",
       "      <th>4</th>\n",
       "      <td>medium</td>\n",
       "      <td>train</td>\n",
       "      <td>63386</td>\n",
       "      <td>16.0</td>\n",
       "      <td>9.0</td>\n",
       "      <td>26.0</td>\n",
       "    </tr>\n",
       "    <tr>\n",
       "      <th>5</th>\n",
       "      <td>medium</td>\n",
       "      <td>validation</td>\n",
       "      <td>13763</td>\n",
       "      <td>16.0</td>\n",
       "      <td>9.0</td>\n",
       "      <td>26.0</td>\n",
       "    </tr>\n",
       "  </tbody>\n",
       "</table>\n",
       "</div>"
      ],
      "text/plain": [
       "    level       split  n_frases  med_tokens_frase  p25_tokens  p75_tokens\n",
       "0    easy       train     52701              13.0         7.0        23.0\n",
       "1    easy  validation     11146              13.0         8.0        23.0\n",
       "2    hard       train     55515              17.0        10.0        26.0\n",
       "3    hard  validation     11649              18.0        10.0        26.0\n",
       "4  medium       train     63386              16.0         9.0        26.0\n",
       "5  medium  validation     13763              16.0         9.0        26.0"
      ]
     },
     "metadata": {},
     "output_type": "display_data"
    }
   ],
   "source": [
    "res_base = (\n",
    "    df.groupby([\"level\",\"split\"]).agg(\n",
    "        n_frases=(\"sent_id\",\"count\"),\n",
    "        med_tokens_frase=(\"n_tokens\",\"median\"),\n",
    "        p25_tokens=(\"n_tokens\", lambda s: s.quantile(0.25)),\n",
    "        p75_tokens=(\"n_tokens\", lambda s: s.quantile(0.75)),\n",
    "    ).reset_index()\n",
    ")\n",
    "display(res_base)\n",
    "res_base.to_csv(REPORTS / \"05_base_por_nivel_split.csv\", index=False)"
   ]
  },
  {
   "cell_type": "markdown",
   "id": "727e0581",
   "metadata": {},
   "source": [
    "#### ***Métricas por documento***"
   ]
  },
  {
   "cell_type": "code",
   "execution_count": 5,
   "id": "e3544c88",
   "metadata": {},
   "outputs": [
    {
     "data": {
      "text/html": [
       "<div>\n",
       "<style scoped>\n",
       "    .dataframe tbody tr th:only-of-type {\n",
       "        vertical-align: middle;\n",
       "    }\n",
       "\n",
       "    .dataframe tbody tr th {\n",
       "        vertical-align: top;\n",
       "    }\n",
       "\n",
       "    .dataframe thead th {\n",
       "        text-align: right;\n",
       "    }\n",
       "</style>\n",
       "<table border=\"1\" class=\"dataframe\">\n",
       "  <thead>\n",
       "    <tr style=\"text-align: right;\">\n",
       "      <th></th>\n",
       "      <th>level</th>\n",
       "      <th>split</th>\n",
       "      <th>doc_id</th>\n",
       "      <th>n_frases</th>\n",
       "      <th>tokens_doc</th>\n",
       "      <th>med_tokens_frase</th>\n",
       "    </tr>\n",
       "  </thead>\n",
       "  <tbody>\n",
       "    <tr>\n",
       "      <th>0</th>\n",
       "      <td>easy</td>\n",
       "      <td>train</td>\n",
       "      <td>problem-1</td>\n",
       "      <td>18</td>\n",
       "      <td>309</td>\n",
       "      <td>15.5</td>\n",
       "    </tr>\n",
       "    <tr>\n",
       "      <th>1</th>\n",
       "      <td>easy</td>\n",
       "      <td>train</td>\n",
       "      <td>problem-10</td>\n",
       "      <td>13</td>\n",
       "      <td>169</td>\n",
       "      <td>9.0</td>\n",
       "    </tr>\n",
       "    <tr>\n",
       "      <th>2</th>\n",
       "      <td>easy</td>\n",
       "      <td>train</td>\n",
       "      <td>problem-100</td>\n",
       "      <td>7</td>\n",
       "      <td>209</td>\n",
       "      <td>25.0</td>\n",
       "    </tr>\n",
       "    <tr>\n",
       "      <th>3</th>\n",
       "      <td>easy</td>\n",
       "      <td>train</td>\n",
       "      <td>problem-1000</td>\n",
       "      <td>18</td>\n",
       "      <td>282</td>\n",
       "      <td>12.0</td>\n",
       "    </tr>\n",
       "    <tr>\n",
       "      <th>4</th>\n",
       "      <td>easy</td>\n",
       "      <td>train</td>\n",
       "      <td>problem-1001</td>\n",
       "      <td>17</td>\n",
       "      <td>302</td>\n",
       "      <td>15.0</td>\n",
       "    </tr>\n",
       "  </tbody>\n",
       "</table>\n",
       "</div>"
      ],
      "text/plain": [
       "  level  split        doc_id  n_frases  tokens_doc  med_tokens_frase\n",
       "0  easy  train     problem-1        18         309              15.5\n",
       "1  easy  train    problem-10        13         169               9.0\n",
       "2  easy  train   problem-100         7         209              25.0\n",
       "3  easy  train  problem-1000        18         282              12.0\n",
       "4  easy  train  problem-1001        17         302              15.0"
      ]
     },
     "metadata": {},
     "output_type": "display_data"
    },
    {
     "data": {
      "text/html": [
       "<div>\n",
       "<style scoped>\n",
       "    .dataframe tbody tr th:only-of-type {\n",
       "        vertical-align: middle;\n",
       "    }\n",
       "\n",
       "    .dataframe tbody tr th {\n",
       "        vertical-align: top;\n",
       "    }\n",
       "\n",
       "    .dataframe thead th {\n",
       "        text-align: right;\n",
       "    }\n",
       "</style>\n",
       "<table border=\"1\" class=\"dataframe\">\n",
       "  <thead>\n",
       "    <tr style=\"text-align: right;\">\n",
       "      <th></th>\n",
       "      <th>level</th>\n",
       "      <th>split</th>\n",
       "      <th>med_frases_doc</th>\n",
       "      <th>p25_frases_doc</th>\n",
       "      <th>p75_frases_doc</th>\n",
       "      <th>med_tokens_doc</th>\n",
       "    </tr>\n",
       "  </thead>\n",
       "  <tbody>\n",
       "    <tr>\n",
       "      <th>0</th>\n",
       "      <td>easy</td>\n",
       "      <td>train</td>\n",
       "      <td>12.0</td>\n",
       "      <td>10.0</td>\n",
       "      <td>15.00</td>\n",
       "      <td>202.0</td>\n",
       "    </tr>\n",
       "    <tr>\n",
       "      <th>1</th>\n",
       "      <td>easy</td>\n",
       "      <td>validation</td>\n",
       "      <td>12.0</td>\n",
       "      <td>10.0</td>\n",
       "      <td>14.00</td>\n",
       "      <td>202.0</td>\n",
       "    </tr>\n",
       "    <tr>\n",
       "      <th>2</th>\n",
       "      <td>hard</td>\n",
       "      <td>train</td>\n",
       "      <td>12.0</td>\n",
       "      <td>10.0</td>\n",
       "      <td>16.00</td>\n",
       "      <td>232.0</td>\n",
       "    </tr>\n",
       "    <tr>\n",
       "      <th>3</th>\n",
       "      <td>hard</td>\n",
       "      <td>validation</td>\n",
       "      <td>12.0</td>\n",
       "      <td>10.0</td>\n",
       "      <td>15.00</td>\n",
       "      <td>231.0</td>\n",
       "    </tr>\n",
       "    <tr>\n",
       "      <th>4</th>\n",
       "      <td>medium</td>\n",
       "      <td>train</td>\n",
       "      <td>13.0</td>\n",
       "      <td>10.0</td>\n",
       "      <td>16.00</td>\n",
       "      <td>216.0</td>\n",
       "    </tr>\n",
       "    <tr>\n",
       "      <th>5</th>\n",
       "      <td>medium</td>\n",
       "      <td>validation</td>\n",
       "      <td>13.0</td>\n",
       "      <td>10.0</td>\n",
       "      <td>16.25</td>\n",
       "      <td>216.0</td>\n",
       "    </tr>\n",
       "  </tbody>\n",
       "</table>\n",
       "</div>"
      ],
      "text/plain": [
       "    level       split  med_frases_doc  p25_frases_doc  p75_frases_doc  \\\n",
       "0    easy       train            12.0            10.0           15.00   \n",
       "1    easy  validation            12.0            10.0           14.00   \n",
       "2    hard       train            12.0            10.0           16.00   \n",
       "3    hard  validation            12.0            10.0           15.00   \n",
       "4  medium       train            13.0            10.0           16.00   \n",
       "5  medium  validation            13.0            10.0           16.25   \n",
       "\n",
       "   med_tokens_doc  \n",
       "0           202.0  \n",
       "1           202.0  \n",
       "2           232.0  \n",
       "3           231.0  \n",
       "4           216.0  \n",
       "5           216.0  "
      ]
     },
     "metadata": {},
     "output_type": "display_data"
    }
   ],
   "source": [
    "por_doc = (\n",
    "    df.groupby([\"level\",\"split\",\"doc_id\"]).agg(\n",
    "        n_frases=(\"sent_id\",\"count\"),\n",
    "        tokens_doc=(\"n_tokens\",\"sum\"),\n",
    "        med_tokens_frase=(\"n_tokens\",\"median\"),\n",
    "    ).reset_index()\n",
    ")\n",
    "display(por_doc.head())\n",
    "por_doc.to_csv(REPORTS / \"05_por_documento.csv\", index=False)\n",
    "\n",
    "res_doc = (\n",
    "    por_doc.groupby([\"level\",\"split\"]).agg(\n",
    "        med_frases_doc=(\"n_frases\",\"median\"),\n",
    "        p25_frases_doc=(\"n_frases\", lambda s: s.quantile(0.25)),\n",
    "        p75_frases_doc=(\"n_frases\", lambda s: s.quantile(0.75)),\n",
    "        med_tokens_doc=(\"tokens_doc\",\"median\"),\n",
    "    ).reset_index()\n",
    ")\n",
    "display(res_doc)\n",
    "res_doc.to_csv(REPORTS / \"05_resumen_por_documento.csv\", index=False)"
   ]
  },
  {
   "cell_type": "markdown",
   "id": "1fcf0f20",
   "metadata": {},
   "source": [
    "#### ***Fronteras***"
   ]
  },
  {
   "cell_type": "code",
   "execution_count": 6,
   "id": "5ad7b0c4",
   "metadata": {},
   "outputs": [
    {
     "name": "stdout",
     "output_type": "stream",
     "text": [
      "Hay fronteras anotadas: False\n"
     ]
    }
   ],
   "source": [
    "tiene_fronteras = bool(df[\"is_boundary\"].any())\n",
    "print(\"Hay fronteras anotadas:\", tiene_fronteras)\n",
    "\n",
    "if tiene_fronteras:\n",
    "    por_doc_b = (\n",
    "        df.groupby([\"level\",\"split\",\"doc_id\"]).agg(\n",
    "            n_fr=(\"sent_id\",\"count\"),\n",
    "            n_b=(\"is_boundary\",\"sum\"),\n",
    "        ).reset_index()\n",
    "    )\n",
    "    por_doc_b[\"densidad_frontera\"] = por_doc_b[\"n_b\"] / por_doc_b[\"n_fr\"].replace(0, np.nan)\n",
    "    res_b = por_doc_b.groupby([\"level\",\"split\"]).agg(\n",
    "        med_dens=(\"densidad_frontera\",\"median\")\n",
    "    ).reset_index()\n",
    "    display(res_b)\n",
    "    por_doc_b.to_csv(REPORTS / \"05_fronteras_por_documento.csv\", index=False)\n",
    "    res_b.to_csv(REPORTS / \"05_fronteras_resumen.csv\", index=False)"
   ]
  },
  {
   "cell_type": "markdown",
   "id": "7b922862",
   "metadata": {},
   "source": [
    "EXPLICACION"
   ]
  },
  {
   "cell_type": "markdown",
   "id": "05293dc9",
   "metadata": {},
   "source": [
    "#### ***Plots***"
   ]
  },
  {
   "cell_type": "code",
   "execution_count": 7,
   "id": "782a3610",
   "metadata": {},
   "outputs": [
    {
     "data": {
      "image/png": "[encoded data removed]",
      "text/plain": [
       "<Figure size 800x400 with 1 Axes>"
      ]
     },
     "metadata": {},
     "output_type": "display_data"
    },
    {
     "data": {
      "text/plain": [
       "<Figure size 800x400 with 0 Axes>"
      ]
     },
     "metadata": {},
     "output_type": "display_data"
    },
    {
     "data": {
      "image/png": "[encoded data removed]",
      "text/plain": [
       "<Figure size 640x480 with 1 Axes>"
      ]
     },
     "metadata": {},
     "output_type": "display_data"
    },
    {
     "data": {
      "text/plain": [
       "<Figure size 800x400 with 0 Axes>"
      ]
     },
     "metadata": {},
     "output_type": "display_data"
    },
    {
     "data": {
      "image/png": "[encoded data removed]",
      "text/plain": [
       "<Figure size 640x480 with 1 Axes>"
      ]
     },
     "metadata": {},
     "output_type": "display_data"
    },
    {
     "data": {
      "image/png": "[encoded data removed]",
      "text/plain": [
       "<Figure size 700x400 with 1 Axes>"
      ]
     },
     "metadata": {},
     "output_type": "display_data"
    }
   ],
   "source": [
    "# 8.1 Frases por nivel y split\n",
    "cnt = df.groupby([\"level\",\"split\"])[\"sent_id\"].count().reset_index(name=\"n_frases\")\n",
    "pv = cnt.pivot(index=\"level\", columns=\"split\", values=\"n_frases\").fillna(0)\n",
    "ax = pv.plot(kind=\"bar\", rot=0, figsize=(8,4))\n",
    "ax.set_ylabel(\"nº frases\")\n",
    "ax.set_title(\"Frases por nivel y split\")\n",
    "plt.tight_layout()\n",
    "plt.savefig(REPORTS / \"05_frases_por_nivel_split.png\", dpi=150)\n",
    "plt.show()\n",
    "\n",
    "# 8.2 Boxplot tokens por frase\n",
    "plt.figure(figsize=(8,4))\n",
    "df.boxplot(column=\"n_tokens\", by=\"level\")\n",
    "plt.suptitle(\"\")\n",
    "plt.title(\"Tokens por frase por nivel\")\n",
    "plt.xlabel(\"nivel\")\n",
    "plt.ylabel(\"tokens por frase\")\n",
    "plt.tight_layout()\n",
    "plt.savefig(REPORTS / \"05_box_tokens_por_frase.png\", dpi=150)\n",
    "plt.show()\n",
    "\n",
    "# 8.3 Boxplot frases por documento\n",
    "plt.figure(figsize=(8,4))\n",
    "por_doc.boxplot(column=\"n_frases\", by=\"level\")\n",
    "plt.suptitle(\"\")\n",
    "plt.title(\"Frases por documento por nivel\")\n",
    "plt.xlabel(\"nivel\")\n",
    "plt.ylabel(\"frases por documento\")\n",
    "plt.tight_layout()\n",
    "plt.savefig(REPORTS / \"05_box_frases_por_documento.png\", dpi=150)\n",
    "plt.show()\n",
    "\n",
    "# 8.4 Histograma tokens por frase\n",
    "plt.figure(figsize=(7,4))\n",
    "df[\"n_tokens\"].hist(bins=50)\n",
    "plt.xlabel(\"tokens por frase\")\n",
    "plt.ylabel(\"frecuencia\")\n",
    "plt.title(\"Distribución de tokens por frase\")\n",
    "plt.tight_layout()\n",
    "plt.savefig(REPORTS / \"05_hist_tokens_por_frase.png\", dpi=150)\n",
    "plt.show()\n",
    "\n",
    "# 8.5 Densidad de fronteras si aplica\n",
    "if tiene_fronteras:\n",
    "    plt.figure(figsize=(7,4))\n",
    "    por_doc_b[\"densidad_frontera\"].dropna().hist(bins=40)\n",
    "    plt.xlabel(\"fronteras / frases\")\n",
    "    plt.ylabel(\"frecuencia\")\n",
    "    plt.title(\"Densidad de fronteras por documento\")\n",
    "    plt.tight_layout()\n",
    "    plt.savefig(REPORTS / \"05_hist_densidad_fronteras.png\", dpi=150)\n",
    "    plt.show()"
   ]
  }
 ],
 "metadata": {
  "kernelspec": {
   "display_name": "work",
   "language": "python",
   "name": "python3"
  },
  "language_info": {
   "codemirror_mode": {
    "name": "ipython",
    "version": 3
   },
   "file_extension": ".py",
   "mimetype": "text/x-python",
   "name": "python",
   "nbconvert_exporter": "python",
   "pygments_lexer": "ipython3",
   "version": "3.11.13"
  }
 },
 "nbformat": 4,
 "nbformat_minor": 5
}
